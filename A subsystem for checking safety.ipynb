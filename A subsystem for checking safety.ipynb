{
 "cells": [
  {
   "cell_type": "markdown",
   "id": "c71f1220",
   "metadata": {},
   "source": [
    "# A subsystem for checking safety"
   ]
  },
  {
   "cell_type": "markdown",
   "id": "15c46f38",
   "metadata": {},
   "source": [
    "## Purpose of the system\n",
    "By solving an optimization problem, the following two tasks can be done:\n",
    "1. Find the minimum braking distance in terms of the arclength projected onto the centre line.\n",
    "2. Determine whether the car can be stopped before the boundary of the field of view (FOV) by checking if the stopping position is outside of the FOV."
   ]
  },
  {
   "cell_type": "markdown",
   "id": "9efd96bf",
   "metadata": {},
   "source": [
    "## Problem Setup\n",
    "\n",
    "The car's position is discribed in curvilinear coordinate system $x=(s,r)$.\n",
    "\n",
    "**Given:**\n",
    "- Boundary of field of view (FOV)\n",
    "- Initial condition\n",
    "\n",
    "**State:**\n",
    "- Car's position $x=(s,r)$ and velocity $v=(\\dot{s},\\dot{r})$\n",
    "\n",
    "**Control:**\n",
    "- Acceleration / deceleration $a$\n",
    "- Steering angle $\\theta$\n",
    "\n",
    "**State constraints:**\n",
    "- Car must stay within the track\n",
    "- Car cannot go back\n",
    "\n",
    "**Control constraints:**\n",
    "- Acceleration / deceleration limits\n",
    "- Steering angle limits\n",
    "\n",
    "**Vehicle dynamics:**\n",
    "\n",
    "**Goal:**  \n",
    "Minimize the distance between initial position and stopping position projected on the centre line of the track.\n",
    "\n",
    "---\n",
    "\n",
    "## Problem Formulation\n",
    "\n",
    "This is a **free-final-time nonlinear optimal control problem**, let the time that the vehicle stops be $t_f$:\n",
    "\n",
    "**Minimize:**\n",
    "\n",
    "$$\n",
    "s(t_f)-s(t_i)\n",
    "$$\n",
    "\n",
    "**Subject to:**\n",
    "- Vehicle dynamics:\n",
    "    $$\n",
    "    TODO\n",
    "    $$\n",
    "\n",
    "- State constraint:\n",
    "    $$\n",
    "    r(t) \\in [r_{\\min},\\, r_{\\max}]\\quad\\text{(car stays in the track)}\n",
    "    \\\\\n",
    "    \\dot{s}>=0\\quad\\text{(car cannot go back)}\n",
    "    $$\n",
    "\n",
    "- Control constraints:\n",
    "    $$\n",
    "    \\theta(t) \\in [\\theta_{\\min},\\, \\theta_{\\max}]\n",
    "    \\\\\n",
    "    a(t)<f_{up}(v(t))\n",
    "    \\\\\n",
    "    a(t)<f_{low}(v(t)), \\quad t\\in [t_i,\\, t_f]\n",
    "    $$\n",
    "- Terminal condition:\n",
    "  $$\n",
    "  v(t_f) = 0\n",
    "  $$\n",
    "\n",
    "---\n",
    "\n",
    "## Implementation in the MPC loop\n",
    "\n",
    "Before each **MPC control step**:\n",
    "- Solve the above optimal control problem\n",
    "- Check if current state is safe\n",
    "- If so, proceed to the MPC control step...\n",
    "- If not, ??TODO??"
   ]
  },
  {
   "cell_type": "code",
   "execution_count": null,
   "id": "f4f1a5a6",
   "metadata": {},
   "outputs": [],
   "source": []
  }
 ],
 "metadata": {
  "kernelspec": {
   "display_name": "Python 3 (ipykernel)",
   "language": "python",
   "name": "python3"
  },
  "language_info": {
   "codemirror_mode": {
    "name": "ipython",
    "version": 3
   },
   "file_extension": ".py",
   "mimetype": "text/x-python",
   "name": "python",
   "nbconvert_exporter": "python",
   "pygments_lexer": "ipython3",
   "version": "3.11.5"
  }
 },
 "nbformat": 4,
 "nbformat_minor": 5
}
